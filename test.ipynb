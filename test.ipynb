{
 "cells": [
  {
   "cell_type": "code",
   "execution_count": 38,
   "metadata": {},
   "outputs": [
    {
     "name": "stdout",
     "output_type": "stream",
     "text": [
      "[['0', '0', '0'], ['0', '1', '0'], ['1', '0', '0'], ['1', '1', '1']]\n",
      "final weights are :-  1.1 1.1\n"
     ]
    }
   ],
   "source": [
    "import csv\n",
    "file = open(\"data.csv\")\n",
    "csvreader = csv.reader(file)\n",
    "header = next(csvreader)\n",
    "# print(header)\n",
    "w1 = 0.6 # weight for first criteria\n",
    "w2 = 0.6 # weight for second criteria\n",
    "t = 1 # threshold\n",
    "LR = 0.5 # learning rate\n",
    "Oa = 0 # actual output\n",
    "rows = []\n",
    "flag = True\n",
    "for row in csvreader:\n",
    "    rows.append(row)\n",
    "print(rows)\n",
    "\n",
    "\n",
    "while flag:\n",
    "    for i in range(len(rows)):\n",
    "        for j in rows[i]:\n",
    "            wx = w1 * float(rows[i][0]) + w2 * float(rows[i][1])\n",
    "            if wx < t:\n",
    "                Oa = 0\n",
    "                if rows[i][2] == Oa:\n",
    "                    flag = True\n",
    "                else:\n",
    "                    flag = False\n",
    "                    w1 = w1 + ((LR * (t - Oa)) * ((int(rows[i][0]) + int((rows[i][1])))))\n",
    "                    w2 = w2 + ((LR * (t - Oa)) * ((int(rows[i][0]) + int((rows[i][1])))))\n",
    "                    break\n",
    "print(\"final weights are :- \",w1, w2)\n",
    "                \n",
    "            \n",
    "    \n",
    "    \n",
    "        \n",
    "file.close()"
   ]
  },
  {
   "cell_type": "code",
   "execution_count": 37,
   "metadata": {},
   "outputs": [
    {
     "name": "stdout",
     "output_type": "stream",
     "text": [
      "[['0', '0', '0'], ['0', '1', '0'], ['1', '0', '0'], ['1', '1', '1']]\n",
      "1.7 1.1\n"
     ]
    }
   ],
   "source": [
    "import csv\n",
    "file = open(\"data.csv\")\n",
    "csvreader = csv.reader(file)\n",
    "header = next(csvreader)\n",
    "# print(header)\n",
    "w1 = 1.2 \n",
    "w2 = 0.6\n",
    "t = 1\n",
    "LR = 0.5\n",
    "Oa = 0\n",
    "rows = []\n",
    "flag = True\n",
    "for row in csvreader:\n",
    "    rows.append(row)\n",
    "print(rows)\n",
    "\n",
    "\n",
    "while flag:\n",
    "    for i in range(len(rows)):\n",
    "        for j in rows[i]:\n",
    "            wx = w1 * float(rows[i][0]) + w2 * float(rows[i][1])\n",
    "            if wx < t:\n",
    "                Oa = 0\n",
    "                if rows[i][2] == Oa:\n",
    "                    flag = True\n",
    "                else:\n",
    "                    flag = False\n",
    "                    w1 = w1 + ((LR * (t - Oa)) * ((int(rows[i][0]) + int((rows[i][1])))))\n",
    "                    w2 = w2 + ((LR * (t - Oa)) * ((int(rows[i][0]) + int((rows[i][1])))))\n",
    "                    break\n",
    "print(w1, w2)\n",
    "                \n",
    "            \n",
    "    \n",
    "    \n",
    "        \n",
    "file.close()"
   ]
  },
  {
   "cell_type": "code",
   "execution_count": null,
   "metadata": {},
   "outputs": [],
   "source": []
  }
 ],
 "metadata": {
  "interpreter": {
   "hash": "4e3aeffcf9bd5e5b0b4d8d8dcd9c095ec073594f8510d77e7d8c0838b858b47d"
  },
  "kernelspec": {
   "display_name": "Python 3.9.6 64-bit",
   "language": "python",
   "name": "python3"
  },
  "language_info": {
   "codemirror_mode": {
    "name": "ipython",
    "version": 3
   },
   "file_extension": ".py",
   "mimetype": "text/x-python",
   "name": "python",
   "nbconvert_exporter": "python",
   "pygments_lexer": "ipython3",
   "version": "3.9.6"
  },
  "orig_nbformat": 4
 },
 "nbformat": 4,
 "nbformat_minor": 2
}
